{
 "cells": [
  {
   "cell_type": "markdown",
   "id": "8a431d8e",
   "metadata": {},
   "source": [
    "# Automação de Sistemas e Processos com Python\n",
    "\n",
    "### Desafio:\n",
    "\n",
    "Todos os dias, o nosso sistema atualiza as vendas do dia anterior.\n",
    "O seu trabalho diário, como analista, é enviar um e-mail para a diretoria, assim que começar a trabalhar, com o faturamento e a quantidade de produtos vendidos no dia anterior\n",
    "\n",
    "E-mail da diretoria: seugmail+diretoria@gmail.com<br>\n",
    "Local onde o sistema disponibiliza as vendas do dia anterior: https://drive.google.com/drive/folders/149xknr9JvrlEnhNWO49zPcw0PW5icxga?usp=sharing\n",
    "\n",
    "Para resolver isso, vamos usar o pyautogui, uma biblioteca de automação de comandos do mouse e do teclado"
   ]
  },
  {
   "cell_type": "code",
   "execution_count": 8,
   "id": "4e0003e8",
   "metadata": {},
   "outputs": [
    {
     "name": "stdout",
     "output_type": "stream",
     "text": [
      "Requirement already satisfied: pyautogui in /home/armandosilva/anaconda3/lib/python3.9/site-packages (0.9.53)\n",
      "Requirement already satisfied: pygetwindow>=0.0.5 in /home/armandosilva/anaconda3/lib/python3.9/site-packages (from pyautogui) (0.0.9)\n",
      "Requirement already satisfied: PyTweening>=1.0.1 in /home/armandosilva/anaconda3/lib/python3.9/site-packages (from pyautogui) (1.0.4)\n",
      "Requirement already satisfied: pyscreeze>=0.1.21 in /home/armandosilva/anaconda3/lib/python3.9/site-packages (from pyautogui) (0.1.28)\n",
      "Requirement already satisfied: mouseinfo in /home/armandosilva/anaconda3/lib/python3.9/site-packages (from pyautogui) (0.1.3)\n",
      "Requirement already satisfied: pymsgbox in /home/armandosilva/anaconda3/lib/python3.9/site-packages (from pyautogui) (1.0.9)\n",
      "Requirement already satisfied: python3-Xlib in /home/armandosilva/anaconda3/lib/python3.9/site-packages (from pyautogui) (0.15)\n",
      "Requirement already satisfied: pyrect in /home/armandosilva/anaconda3/lib/python3.9/site-packages (from pygetwindow>=0.0.5->pyautogui) (0.1.4)\n",
      "Requirement already satisfied: pyperclip in /home/armandosilva/anaconda3/lib/python3.9/site-packages (from mouseinfo->pyautogui) (1.8.2)\n",
      "Requirement already satisfied: pyperclip in /home/armandosilva/anaconda3/lib/python3.9/site-packages (1.8.2)\n"
     ]
    }
   ],
   "source": [
    "# Installing the libraMAIL.GOOGLE.COMries\n",
    "!pip install pyautogui\n",
    "!pip install pyperclip"
   ]
  },
  {
   "cell_type": "code",
   "execution_count": 9,
   "id": "77ccca1f",
   "metadata": {},
   "outputs": [],
   "source": [
    "# Import libraries\n",
    "import pyautogui as auto\n",
    "import time\n",
    "import pyperclip as clip\n",
    "\n",
    "# Break time\n",
    "auto.PAUSE = 1\n",
    "\n",
    "# Step 1 - Open an internet browser.\n",
    "# auto.press(\"winleft\")\n",
    "# auto.write(\"vivaldi\")\n",
    "# auto.press(\"enter\")\n",
    "auto.hotkey(\"ctrl\", \"t\")\n",
    "\n",
    "# Step 2 - Copy our link on google where our database is.\n",
    "link = \"https://drive.google.com/drive/folders/149xknr9JvrlEnhNWO49zPcw0PW5icxga?usp=sharing\"\n",
    "clip.copy(link)\n",
    "\n",
    "# Step 3 - Enter google drive where our database is.\n",
    "auto.hotkey(\"ctrl\", \"v\")\n",
    "auto.press(\"enter\")\n",
    "\n",
    "time.sleep(15)\n",
    "\n",
    "# Step 4 - Open the folder where the file is.\n",
    "auto.click(x=334, y=284, clicks=2)\n",
    "\n",
    "time.sleep(15)\n",
    "\n",
    "# Step 5 - Download the spreadsheet with our database.\n",
    "auto.click(x=364, y=412)\n",
    "auto.click(x=1164, y=181)\n",
    "auto.click(x=906, y=577)\n",
    "auto.click(x=16, y=756)"
   ]
  },
  {
   "cell_type": "markdown",
   "id": "54ce4de8",
   "metadata": {},
   "source": [
    "### Vamos agora ler o arquivo baixado para pegar os indicadores\n",
    "\n",
    "- Faturamento\n",
    "- Quantidade de Produtos"
   ]
  },
  {
   "cell_type": "code",
   "execution_count": 10,
   "id": "825498e1",
   "metadata": {},
   "outputs": [],
   "source": [
    "# Step 6 - Importing our database with pandas\n",
    "import pandas as pd\n",
    "\n",
    "df = pd.read_excel(r'/home/armandosilva/Downloads/Vendas - Dez.xlsx')\n",
    "\n",
    "# Step 7 - Cauculate the indicators\n",
    "billing = df['Valor Final'].sum()\n",
    "qnt_produts = df['Quantidade'].sum()\n"
   ]
  },
  {
   "cell_type": "markdown",
   "id": "6fbdf3ae",
   "metadata": {},
   "source": [
    "### Vamos agora enviar um e-mail pelo gmail\n"
   ]
  },
  {
   "cell_type": "code",
   "execution_count": 11,
   "id": "334ef0fd",
   "metadata": {},
   "outputs": [],
   "source": [
    "# Step 8 - Open gmail in browser\n",
    "auto.hotkey(\"ctrl\", \"t\")\n",
    "auto.write(\"mail.google.com\")\n",
    "auto.press(\"enter\")\n",
    "\n",
    "time.sleep(15)\n",
    "\n",
    "# Step 9 - Send email to recipient\n",
    "auto.click(x=64, y=231)\n",
    "time.sleep(15)\n",
    "\n",
    "auto.write(\"armandosilva77777@gmail.com\")\n",
    "auto.press(\"tab\")\n",
    "auto.press(\"tab\")\n",
    "subject = \"Yesterday's Sales Report\"\n",
    "clip.copy(subject)\n",
    "auto.hotkey(\"ctrl\", \"v\")\n",
    "auto.hotkey(\"tab\")\n",
    "text = f'''\n",
    "  Dears, good morning\n",
    "    \n",
    "  Yesterday's billing was: R$ {billing:,.2f}.\n",
    "  The amount of products sold was: {qnt_produts:,} products.\n",
    "\n",
    "  Abs, Armando\n",
    "'''\n",
    "clip.copy(text)\n",
    "auto.hotkey(\"ctrl\", \"v\")\n",
    "auto.hotkey(\"ctrl\", \"enter\")"
   ]
  },
  {
   "cell_type": "code",
   "execution_count": null,
   "id": "97ddeee4",
   "metadata": {},
   "outputs": [],
   "source": []
  }
 ],
 "metadata": {
  "kernelspec": {
   "display_name": "Python 3 (ipykernel)",
   "language": "python",
   "name": "python3"
  },
  "language_info": {
   "codemirror_mode": {
    "name": "ipython",
    "version": 3
   },
   "file_extension": ".py",
   "mimetype": "text/x-python",
   "name": "python",
   "nbconvert_exporter": "python",
   "pygments_lexer": "ipython3",
   "version": "3.9.7"
  }
 },
 "nbformat": 4,
 "nbformat_minor": 5
}
